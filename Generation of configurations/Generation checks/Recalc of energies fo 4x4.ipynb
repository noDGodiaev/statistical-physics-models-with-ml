{
  "nbformat": 4,
  "nbformat_minor": 0,
  "metadata": {
    "kernelspec": {
      "display_name": "fast_p",
      "language": "python",
      "name": "fast_p"
    },
    "language_info": {
      "codemirror_mode": {
        "name": "ipython",
        "version": 3
      },
      "file_extension": ".py",
      "mimetype": "text/x-python",
      "name": "python",
      "nbconvert_exporter": "python",
      "pygments_lexer": "ipython3",
      "version": "3.7.0"
    },
    "colab": {
      "name": "Check_E.ipynb",
      "provenance": [],
      "collapsed_sections": []
    }
  },
  "cells": [
    {
      "cell_type": "markdown",
      "metadata": {
        "id": "N2PqfjARikY3"
      },
      "source": [
        "### This notebook contains the recalculation of a 4 * 4 lattice by the numerical method and the Monte Carlo method."
      ]
    },
    {
      "cell_type": "code",
      "metadata": {
        "id": "TXiPtIF9sQKf"
      },
      "source": [
        "try: \n",
        "  from mc_lib.rndm import RndmWrapper\n",
        "except ImportError:\n",
        "  !pip install git+https://github.com/ev-br/mc_lib.git@master\n",
        "  pass"
      ],
      "execution_count": null,
      "outputs": []
    },
    {
      "cell_type": "code",
      "metadata": {
        "id": "KB6E-lAisS6E",
        "colab": {
          "resources": {
            "http://localhost:8080/nbextensions/google.colab/files.js": {
              "data": "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",
              "ok": true,
              "headers": [
                [
                  "content-type",
                  "application/javascript"
                ]
              ],
              "status": 200,
              "status_text": ""
            }
          },
          "base_uri": "https://localhost:8080/",
          "height": 106
        },
        "outputId": "ae684bb9-8dbd-4012-dfa2-246aaa5e52e4"
      },
      "source": [
        "try: \n",
        "  from _common import tabulate_neighbors\n",
        "except ImportError:\n",
        "  from google.colab import files\n",
        "  uploaded = files.upload()\n",
        "  pass"
      ],
      "execution_count": null,
      "outputs": [
        {
          "output_type": "display_data",
          "data": {
            "text/html": [
              "\n",
              "     <input type=\"file\" id=\"files-ad10ec6d-e466-49de-9e52-62ac72a0bab7\" name=\"files[]\" multiple disabled\n",
              "        style=\"border:none\" />\n",
              "     <output id=\"result-ad10ec6d-e466-49de-9e52-62ac72a0bab7\">\n",
              "      Upload widget is only available when the cell has been executed in the\n",
              "      current browser session. Please rerun this cell to enable.\n",
              "      </output>\n",
              "      <script src=\"/nbextensions/google.colab/files.js\"></script> "
            ],
            "text/plain": [
              "<IPython.core.display.HTML object>"
            ]
          },
          "metadata": {}
        },
        {
          "output_type": "stream",
          "name": "stdout",
          "text": [
            "Saving _common.py to _common.py\n",
            "Saving _square.py to _square.py\n"
          ]
        }
      ]
    },
    {
      "cell_type": "code",
      "metadata": {
        "pycharm": {
          "name": "#%%\n"
        },
        "id": "1c9hZnNSsOT9"
      },
      "source": [
        "%load_ext cython"
      ],
      "execution_count": null,
      "outputs": []
    },
    {
      "cell_type": "code",
      "metadata": {
        "pycharm": {
          "name": "#%%\n"
        },
        "id": "gAIx9s0-sOT-"
      },
      "source": [
        "import numpy as np\n",
        "import matplotlib.pyplot as plt"
      ],
      "execution_count": null,
      "outputs": []
    },
    {
      "cell_type": "markdown",
      "metadata": {
        "id": "emo4ELI3jJok"
      },
      "source": [
        "### Сorrected algorithm"
      ]
    },
    {
      "cell_type": "code",
      "metadata": {
        "pycharm": {
          "name": "#%%\n"
        },
        "id": "D3nHiGrpsOT_"
      },
      "source": [
        "# MY ISING\n",
        "%%cython --cplus\n",
        "import cython\n",
        "import numpy as np\n",
        "cimport numpy as np\n",
        "from libc.time cimport time\n",
        "from libc.math cimport exp\n",
        "from mc_lib.rndm cimport RndmWrapper\n",
        "from _common import tabulate_neighbors\n",
        "from mc_lib.observable cimport RealObservable\n",
        "\n",
        "@cython.boundscheck(False)\n",
        "@cython.wraparound(False)\n",
        "cdef np.ndarray initState(int linear_size, RndmWrapper rndm):\n",
        "    cdef np.ndarray[np.int_t, ndim=2,negative_indices=False,\n",
        "                    mode='c'] lattice = np.zeros([linear_size, linear_size], dtype=int)\n",
        "    cdef int i\n",
        "    cdef int j\n",
        "    for i in range(linear_size):\n",
        "        for j in range(linear_size):\n",
        "            lattice[i,j] = 1 if rndm.uniform() > 0.5 else -1\n",
        "    return lattice\n",
        "\n",
        "@cython.boundscheck(False)\n",
        "@cython.wraparound(False)\n",
        "cdef np.ndarray mcmove(np.ndarray config,double beta,int L,\n",
        "                    np.ndarray [np.int_t, ndim=2,negative_indices=False] ngb,\n",
        "                     RndmWrapper rndm):\n",
        "    \"\"\"\n",
        "    One Monte-Carlo step\n",
        "\n",
        "    params:\n",
        "        config: Current configuration of lattice\n",
        "        beta:   Inversed temperature of current configuration\n",
        "        L:      Linear size 'L' of lattice\n",
        "        ngb:    Array of neigbours\n",
        "    return:\n",
        "    \"\"\"\n",
        "    cdef:\n",
        "    # Choose a random spin\n",
        "        double foo = rndm.uniform()\n",
        "        int i = int(foo*(L*L)) //L\n",
        "        int j = int(foo*(L*L)) %L\n",
        "        # current spin: sigma_i\n",
        "        int site =  config[i, j]\n",
        "        #  count neighbours: up, down, left, right\n",
        "        #  nb = sum( sigma_j )\n",
        "        double dE = 0\n",
        "    for n in range(1,5):\n",
        "        dE += site * config[ngb[i*L + j, n] //L, ngb[i*L + j, n] % L]\n",
        "    cdef double ratio = exp(-2 * dE * beta)\n",
        "    if rndm.uniform() > ratio:\n",
        "      config[i, j] = site\n",
        "    else:\n",
        "      site *= -1\n",
        "      config[i, j] = site\n",
        "    return\n",
        "    \n",
        "\n",
        "\n",
        "@cython.boundscheck(False)  # turn off bounds-checking for entire function\n",
        "@cython.wraparound(False)  # turn off negative index wrapping for entire functio\n",
        "cdef double calcEnergy(np.ndarray config, int L, ngb):\n",
        "    # config = lattice configuration on current step\n",
        "    # L - size of lattice\n",
        "    cdef:\n",
        "        int i\n",
        "        int j\n",
        "        int site\n",
        "        # int nb\n",
        "        double energy = 0\n",
        "    for i in range(L):\n",
        "        for j in range(L):\n",
        "            site = config[i, j]\n",
        "            # nb = 0\n",
        "            for n in range(1,5):\n",
        "              one_ngb = config[ngb[i*L + j, n] //L, ngb[i*L + j, n] % L]\n",
        "              energy += -1 * site * one_ngb\n",
        "    return energy / 4.\n",
        "\n",
        "\n",
        "@cython.boundscheck(False)  # turn off bounds-checking for entire function\n",
        "@cython.wraparound(False)  # turn off negative index wrapping for entire function\n",
        "def IsingSimulate_new(L, T, sweeps, int seed, int rseed = 1234):\n",
        "    \"\"\"\n",
        "        L - linear_size\n",
        "        T - One temperature point\n",
        "        Sweeps - number of L^2 Metropolis Monte-Karlo steps\n",
        "\n",
        "    \"\"\"\n",
        "    cdef RndmWrapper rndm = RndmWrapper((rseed, seed))\n",
        "    cdef RealObservable e = RealObservable()\n",
        "    cdef:\n",
        "        float beta = 1.0 / T  # inversed temperature\n",
        "        int sweep = 0\n",
        "        int steps_per_sweep = L * L\n",
        "        int num_therm = int(30 * L) # ?10?\n",
        "        int i\n",
        "\n",
        "\n",
        "    cdef:\n",
        "        list configs = []\n",
        "        np.ndarray [np.int_t, ndim=2,negative_indices=False] ngb =\\\n",
        "         tabulate_neighbors(L, kind='sq')\n",
        "        np.ndarray[np.int_t, ndim = 2, negative_indices = False, mode = 'c'] config\n",
        "    config = initState(L, rndm)\n",
        "    configs.append(config.copy())\n",
        "    for sweep in range(num_therm):\n",
        "        for i in range(steps_per_sweep):\n",
        "            mcmove(config, beta, L, ngb, rndm)\n",
        "    enes = np.zeros(sweeps)\n",
        "\n",
        "    for sweep in range(sweeps):\n",
        "        for i in range(steps_per_sweep):\n",
        "            mcmove(config, beta, L, ngb, rndm)\n",
        "\n",
        "        Et = calcEnergy(config, L, ngb)\n",
        "        e.add_measurement(Et)\n",
        "        enes[sweep] = Et\n",
        "\n",
        "    error = e.errorbar\n",
        "    mean_energ = e.mean\n",
        "    converg = e.is_converged\n",
        "    return enes, mean_energ, error,converg, configs\n",
        "\n"
      ],
      "execution_count": null,
      "outputs": []
    },
    {
      "cell_type": "markdown",
      "metadata": {
        "id": "MJ9j0CPgjPxP"
      },
      "source": [
        "### Old algorithm\n",
        "contain an error with declaration \"Energy\" in calcEnergy function "
      ]
    },
    {
      "cell_type": "code",
      "metadata": {
        "id": "edFOaYkcVtQp"
      },
      "source": [
        "# MY ISING_old\n",
        "%%cython --cplus\n",
        "import cython\n",
        "import numpy as np\n",
        "cimport numpy as np\n",
        "from libc.time cimport time\n",
        "from libc.math cimport exp\n",
        "from mc_lib.rndm cimport RndmWrapper\n",
        "from _common import tabulate_neighbors\n",
        "from mc_lib.observable cimport RealObservable\n",
        "\n",
        "@cython.boundscheck(False)\n",
        "@cython.wraparound(False)\n",
        "cdef np.ndarray initState(int linear_size, RndmWrapper rndm):\n",
        "    cdef np.ndarray[np.int_t, ndim=2,negative_indices=False,\n",
        "                    mode='c'] lattice = np.zeros([linear_size, linear_size], dtype=int)\n",
        "    cdef int i\n",
        "    cdef int j\n",
        "    for i in range(linear_size):\n",
        "        for j in range(linear_size):\n",
        "            lattice[i,j] = 1 if rndm.uniform() > 0.5 else -1\n",
        "    return lattice\n",
        "\n",
        "@cython.boundscheck(False)\n",
        "@cython.wraparound(False)\n",
        "cdef np.ndarray mcmove22(np.ndarray config,double beta,int L,\n",
        "                    np.ndarray [np.int_t, ndim=2,negative_indices=False] ngb,\n",
        "                     RndmWrapper rndm):\n",
        "    \"\"\"\n",
        "    One Monte-Carlo step\n",
        "\n",
        "    params:\n",
        "        config: Current configuration of lattice\n",
        "        beta:   Inversed temperature of current configuration\n",
        "        L:      Linear size 'L' of lattice\n",
        "        ngb:    Array of neigbours\n",
        "    return:\n",
        "    \"\"\"\n",
        "    cdef:\n",
        "    # Choose a random spin\n",
        "        int i = int(rndm.uniform()*L)\n",
        "        int j = int(rndm.uniform()*L)\n",
        "        # current spin: sigma_i\n",
        "        int site =  config[i, j]\n",
        "        #  count neighbours: up, down, left, right\n",
        "        #  nb = sum( sigma_j )\n",
        "        double dE = 0\n",
        "    for n in range(1,5):\n",
        "        dE += site * config[ngb[i*L + j, n] //L, ngb[i*L + j, n] % L]\n",
        "    cdef double ratio = exp(-2. * dE * beta)\n",
        "    if rndm.uniform() > ratio:\n",
        "      config[i, j] = site\n",
        "    else:\n",
        "      site *= -1\n",
        "      config[i, j] = site\n",
        "    return\n",
        "    \n",
        "\n",
        "\n",
        "@cython.boundscheck(False)  # turn off bounds-checking for entire function\n",
        "@cython.wraparound(False)  # turn off negative index wrapping for entire functio\n",
        "cdef double calcEnergy(np.ndarray config, int L, ngb):\n",
        "    # config = lattice configuration on current step\n",
        "    # L - size of lattice\n",
        "    cdef:\n",
        "        int i\n",
        "        int j\n",
        "        int site\n",
        "        # int nb\n",
        "        double energy\n",
        "    for i in range(L):\n",
        "        for j in range(L):\n",
        "            site = config[i, j]\n",
        "            # nb = 0\n",
        "            for n in range(1,5):\n",
        "              one_ngb = config[ngb[i*L + j, n] //L, ngb[i*L + j, n] % L]\n",
        "              energy += -1 * site * one_ngb\n",
        "    return energy / 4.\n",
        "\n",
        "\n",
        "@cython.boundscheck(False)  # turn off bounds-checking for entire function\n",
        "@cython.wraparound(False)  # turn off negative index wrapping for entire function\n",
        "def IsingSimulate_old(L, T, sweeps, int seed, int rseed = 1234):\n",
        "    \"\"\"\n",
        "        L - linear_size\n",
        "        T - One temperature point\n",
        "        Sweeps - number of L^2 Metropolis Monte-Karlo steps\n",
        "\n",
        "    \"\"\"\n",
        "    cdef RndmWrapper rndm = RndmWrapper((rseed, seed))\n",
        "    cdef RealObservable e = RealObservable()\n",
        "    cdef:\n",
        "        float beta = 1.0 / T  # inversed temperature\n",
        "        int sweep = 0\n",
        "        int steps_per_sweep = L * L\n",
        "        int num_therm = int(30 * L) # ?10?\n",
        "        int i\n",
        "\n",
        "\n",
        "    cdef:\n",
        "        list configs = []\n",
        "        np.ndarray [np.int_t, ndim=2,negative_indices=False] ngb =\\\n",
        "         tabulate_neighbors(L, kind='sq')\n",
        "        np.ndarray[np.int_t, ndim = 2, negative_indices = False, mode = 'c'] config\n",
        "    config = initState(L, rndm)\n",
        "    configs.append(config.copy())\n",
        "    for sweep in range(num_therm):\n",
        "        for i in range(steps_per_sweep):\n",
        "            mcmove22(config, beta, L, ngb, rndm)\n",
        "    enes = np.zeros(sweeps)\n",
        "\n",
        "    for sweep in range(sweeps):\n",
        "        for i in range(steps_per_sweep):\n",
        "            mcmove22(config, beta, L, ngb, rndm)\n",
        "\n",
        "        Et = calcEnergy(config, L, ngb)\n",
        "        e.add_measurement(Et)\n",
        "        enes[sweep] = Et\n",
        "\n",
        "    error = e.errorbar\n",
        "    mean_energ = e.mean\n",
        "    converg = e.is_converged\n",
        "    return enes, mean_energ, error,converg, configs\n",
        "\n"
      ],
      "execution_count": null,
      "outputs": []
    },
    {
      "cell_type": "markdown",
      "metadata": {
        "id": "5ym6kS4Lj3rd"
      },
      "source": [
        "### Energy recalculation over all lattice states"
      ]
    },
    {
      "cell_type": "code",
      "metadata": {
        "id": "W6ttpvUKbout"
      },
      "source": [
        "%%cython --cplus\n",
        "cimport cython\n",
        "import numpy as np\n",
        "cimport numpy as np\n",
        "from mc_lib.rndm cimport RndmWrapper\n",
        "from _common import tabulate_neighbors\n",
        "from mc_lib.observable cimport RealObservable\n",
        "\n",
        "@cython.boundscheck(False)\n",
        "@cython.wraparound(False)\n",
        "cdef double energy(long[::1] spins,\n",
        "                             long[:, ::1] neighbors):\n",
        "\n",
        "    cdef:\n",
        "        double ene = 0.0\n",
        "        Py_ssize_t site, site1, num_neighb\n",
        "\n",
        "    for site in range(spins.shape[0]):\n",
        "        num_neighb = neighbors[site, 0]\n",
        "        for j in range(1, num_neighb+1):\n",
        "            site1 = neighbors[site, j]\n",
        "            ene += -1 * spins[site] * spins[site1]\n",
        "\n",
        "    return ene / 2.0\n",
        "\n",
        "\n",
        "def det_energies(int L = 4): # возвращает энергии для всех возможных конфигураций системы 4х4\n",
        "    \n",
        "    cdef long[:, ::1] neighbors = tabulate_neighbors(L, kind='sq')\n",
        "    cdef double[:,::1] Js = np.zeros((L*L, L*L)) \n",
        "    \n",
        "    A = [-1,1]\n",
        "    conf = [(a1,a2,a3,a4,a5,a6,a7,a8,a9,a10,a11,a12,a13,a14,a15,a16) for a1 in A for a2 in A for a3 in A for a4 in A for a5 in A for a6 in A for a7 in A for a8 in A for a9 in A for a10 in A for a11 in A for a12 in A for a13 in A for a14 in A for a15 in A for a16 in A]\n",
        "    cdef long[:,::1] configs = np.asarray(conf) # перебор всех конфигураций\n",
        "    \n",
        "    energies = []\n",
        "    magns = []\n",
        "    cdef int i\n",
        "    for i in range(2**16):\n",
        "        energies.append(energy(configs[i], neighbors))\n",
        "        magns.append((np.sum(configs[i]))**2)\n",
        "        \n",
        "    \n",
        "        \n",
        "    return (np.asarray(energies),np.asarray( magns))"
      ],
      "execution_count": null,
      "outputs": []
    },
    {
      "cell_type": "markdown",
      "metadata": {
        "id": "qib3q4MYj8MW"
      },
      "source": [
        "### A converted version of the generator from Mc_lib \"Frustrated ising\""
      ]
    },
    {
      "cell_type": "code",
      "metadata": {
        "id": "eczNNEfjLa-s"
      },
      "source": [
        "# FROM MC_LIB Examples\n",
        "%%cython --cplus\n",
        "\n",
        "cimport cython\n",
        "import numpy as np\n",
        "cimport numpy as np\n",
        "\n",
        "from libc.math cimport exp, tanh\n",
        "from mc_lib.rndm cimport RndmWrapper\n",
        "from _common import tabulate_neighbors\n",
        "from mc_lib.observable cimport RealObservable\n",
        "\n",
        "\n",
        "cdef void init_spins(np.ndarray[np.int_t, ndim = 1, negative_indices = False, mode = 'c'] spins, RndmWrapper rndm): \n",
        "    for j in range(spins.shape[0]):\n",
        "      spins[j] = 1 if rndm.uniform() > 0.5 else -1\n",
        "        \n",
        "        \n",
        "@cython.boundscheck(False)\n",
        "@cython.wraparound(False)\n",
        "cdef double energy(long[::1] spins, \n",
        "                   long[:, ::1] neighbors):\n",
        "\n",
        "    cdef:\n",
        "        double ene = 0.0\n",
        "        Py_ssize_t site, site1, num_neighb\n",
        "\n",
        "    for site in range(spins.shape[0]):\n",
        "        num_neighb = neighbors[site, 0]\n",
        "        for j in range(1, num_neighb+1):\n",
        "            site1 = neighbors[site, j]\n",
        "            ene += -1 * spins[site] * spins[site1] \n",
        "    \n",
        "    return ene / 4.0\n",
        "\n",
        "\n",
        "@cython.boundscheck(False)\n",
        "@cython.wraparound(False)\n",
        "cdef void flip_spin(long[::1] spins, \n",
        "                    const long[:, ::1] neighbors,\n",
        "                    double beta,\n",
        "                    RndmWrapper rndm): \n",
        "    cdef:\n",
        "        Py_ssize_t site = int(spins.shape[0] * rndm.uniform())\n",
        "        Py_ssize_t site1\n",
        "\n",
        "    cdef long num_neighb = neighbors[site, 0]\n",
        "    cdef double summ = 0.\n",
        "    for j in range(1, num_neighb + 1):\n",
        "        site1 = neighbors[site, j]\n",
        "        summ += spins[site1] * spins[site]\n",
        "   \n",
        "    cdef double ratio = exp(-2.0 * beta * summ )\n",
        "    \n",
        "    if rndm.uniform() > ratio:\n",
        "        return\n",
        "\n",
        "    spins[site] = -spins[site]\n",
        "        \n",
        "\n",
        "def simulate_ising(Py_ssize_t L,\n",
        "             double T,\n",
        "             Py_ssize_t num_sweeps, int seed, int rseed = 1234):\n",
        "\n",
        "    cdef:\n",
        "        long[:, ::1] neighbors = tabulate_neighbors(L, kind='sq')\n",
        "        double beta = 1./T\n",
        "\n",
        "    cdef:\n",
        "        list configs = []\n",
        "        int num_therm = int(30 * L)\n",
        "        int steps_per_sweep = L * L \n",
        "        int sweep = 0\n",
        "        int i\n",
        "        \n",
        "    \n",
        "    cdef RndmWrapper rndm = RndmWrapper((rseed, seed)) \n",
        "    cdef RealObservable e = RealObservable()\n",
        "\n",
        "    cdef np.ndarray[np.int_t, ndim = 1, negative_indices = False, mode = 'c']  spins =  np.empty( L*L, dtype=int)\n",
        "    init_spins(spins, rndm)\n",
        "    configs.append(spins.copy())\n",
        "    \n",
        "\n",
        "    for sweep in range(num_therm):\n",
        "        for i in range(steps_per_sweep):\n",
        "            flip_spin(spins, neighbors, beta, rndm)\n",
        "    enes = np.zeros(num_sweeps)\n",
        "\n",
        "    for sweep in range(num_sweeps):\n",
        "        for i in range(steps_per_sweep):\n",
        "            flip_spin(spins, neighbors, beta, rndm)\n",
        "            \n",
        "        Et = energy(spins, neighbors)\n",
        "        e.add_measurement(Et)\n",
        "        enes[sweep] = Et\n",
        "\n",
        "    error = e.errorbar\n",
        "    mean_energ = e.mean\n",
        "    converg = e.is_converged\n",
        "    return enes, mean_energ, error,converg, configs"
      ],
      "execution_count": null,
      "outputs": []
    },
    {
      "cell_type": "code",
      "metadata": {
        "id": "ar2RtyidukcT"
      },
      "source": [
        "Temps = np.linspace(0.5, 7, 100)\n",
        "Temps1 = np.linspace(0.5, 7, 40)"
      ],
      "execution_count": null,
      "outputs": []
    },
    {
      "cell_type": "code",
      "metadata": {
        "id": "y9CzeoIqbuQQ"
      },
      "source": [
        "def av_energy(beta, Energy):\n",
        "    E = 0\n",
        "    Z = 0\n",
        "    for i in range(2**16):\n",
        "        Z += np.exp(-1 * Energy[i] * beta)\n",
        "        E += Energy[i] * np.exp(-1 * Energy[i] * beta)\n",
        "\n",
        "    return E/Z"
      ],
      "execution_count": null,
      "outputs": []
    },
    {
      "cell_type": "code",
      "metadata": {
        "id": "pYcRFXr8WfGq"
      },
      "source": [
        "Energies = det_energies()[0]\n",
        "exact_energy = []\n",
        "for t in Temps:\n",
        "    exact_energy.append(av_energy(1/t, Energies))\n",
        "exact_energy = np.array(exact_energy)"
      ],
      "execution_count": null,
      "outputs": []
    },
    {
      "cell_type": "markdown",
      "metadata": {
        "id": "NqQ70ahpjCWM"
      },
      "source": [
        "### The same random seed"
      ]
    },
    {
      "cell_type": "code",
      "metadata": {
        "colab": {
          "base_uri": "https://localhost:8080/"
        },
        "id": "zM1iw9r12Q_J",
        "outputId": "44dfa379-d8cd-470b-a61f-d3c717b14b6a"
      },
      "source": [
        "for t in range(len(Temps)):\n",
        "  if 0.95 < Temps[t] < 1:\n",
        "    print(f'Temp: {Temps[t]}')\n",
        "    print(f'E: {exact_energy[t] / 16}')\n",
        "enes1, mean_energ1, error1,converg1, cf1 = IsingSimulate_old(4, 1, 10000, 1,1234)\n",
        "enes2, mean_energ2, error2,converg2, cf2 = IsingSimulate_new(4, 1, 10000, 1,1234)\n",
        "enes, mean_energ, error,converg, cf = simulate_ising(4, 1, 10000, seed=1,rseed=1234)\n",
        "print(f'MC_LIBS Ising {mean_energ / 8} - E; {error} - Error; convergence {converg}')\n",
        "print(f'My Ising_old {mean_energ1 / 8} - E; {error1} - Error; convergence {converg1}')\n",
        "print(f'My Ising_new {mean_energ2 / 8} - E; {error2} - Error; convergence {converg1}')"
      ],
      "execution_count": null,
      "outputs": [
        {
          "output_type": "stream",
          "name": "stdout",
          "text": [
            "Temp: 0.9595959595959597\n",
            "E: -1.9979895850944236\n",
            "MC_LIBS Ising -1.9963507401315788 - E; 0.006663736084287841 - Error; convergence True\n",
            "My Ising_old -1.9954769736842097 - E; 0.016956061086080526 - Error; convergence True\n",
            "My Ising_new -1.9963507401315788 - E; 0.006663736084287841 - Error; convergence True\n"
          ]
        }
      ]
    },
    {
      "cell_type": "markdown",
      "metadata": {
        "id": "0JZs7YuzjFhP"
      },
      "source": [
        "### Different random seed"
      ]
    },
    {
      "cell_type": "code",
      "metadata": {
        "id": "v8714X606EW1"
      },
      "source": [
        "mean_energis = []\n",
        "mean_energis1 = []\n",
        "mean_energis2 = []\n",
        "errors = []\n",
        "errors1 = []\n",
        "errors2 = []\n",
        "for t in Temps1:\n",
        "    energs, mean_energ, error,converg, cf = IsingSimulate_old(4, t, 1000, 1,1234)\n",
        "    energs1, mean_energ1, error1,converg1, cf1 = IsingSimulate_new(4, t, 1000, 1,1234)\n",
        "    energs2, mean_energ2, error2,converg2, cf1 = simulate_ising(4, t, 1000, 1,1234)\n",
        "    mean_energis.append(mean_energ / 8)\n",
        "    mean_energis1.append(mean_energ1 / 8)\n",
        "    mean_energis2.append(mean_energ2 / 8)\n",
        "    errors.append(error / 8)\n",
        "    errors1.append(error1 / 8)\n",
        "    errors2.append(error2 / 8)"
      ],
      "execution_count": null,
      "outputs": []
    },
    {
      "cell_type": "code",
      "metadata": {
        "colab": {
          "base_uri": "https://localhost:8080/",
          "height": 497
        },
        "id": "cIoLjR4n5vs_",
        "outputId": "6da44a48-10d4-4a11-ef64-671b315672a6"
      },
      "source": [
        "plt.figure(figsize=(12,8))\n",
        "plt.scatter(Temps, exact_energy / 16, color='green')\n",
        "plt.errorbar(Temps1, mean_energis,errors,   marker = \"o\", linestyle=\"None\", label='my Ising_old')\n",
        "plt.errorbar(Temps1, mean_energis1,errors1,   marker = \"o\", linestyle=\"None\", label='my Ising_new')\n",
        "plt.errorbar(Temps1, mean_energis2,errors2,   marker = \"o\", color='red', linestyle=\"None\", label='mc_libs' )\n",
        "plt.legend()\n",
        "plt.xlabel(\"T\")\n",
        "plt.ylabel(r\"$\\dfrac{E}{L^2}$\")\n",
        "plt.grid()"
      ],
      "execution_count": null,
      "outputs": [
        {
          "output_type": "display_data",
          "data": {
            "image/png": "[encoded data removed]",
            "text/plain": [
              "<Figure size 864x576 with 1 Axes>"
            ]
          },
          "metadata": {
            "needs_background": "light"
          }
        }
      ]
    },
    {
      "cell_type": "code",
      "metadata": {
        "id": "ynlGCFJ1YIiN"
      },
      "source": [
        "mean_energis = []\n",
        "mean_energis1 = []\n",
        "mean_energis2 = []\n",
        "errors = []\n",
        "errors1 = []\n",
        "errors2 = []\n",
        "for t in Temps1:\n",
        "    energs, mean_energ, error,converg, cf = IsingSimulate_old(4, t, 1000, 1,np.random.randint(0,1000))\n",
        "    energs1, mean_energ1, error1,converg1, cf1 = IsingSimulate_new(4, t, 1000, 1,np.random.randint(0,1000))\n",
        "    energs2, mean_energ2, error2,converg2, cf1 = simulate_ising(4, t, 1000, 1,np.random.randint(0,1000))\n",
        "    mean_energis.append(mean_energ / 8)\n",
        "    mean_energis1.append(mean_energ1 / 8)\n",
        "    mean_energis2.append(mean_energ2 / 8)\n",
        "    errors.append(error / 8)\n",
        "    errors1.append(error1 / 8)\n",
        "    errors2.append(error2 / 8)"
      ],
      "execution_count": null,
      "outputs": []
    },
    {
      "cell_type": "code",
      "metadata": {
        "colab": {
          "base_uri": "https://localhost:8080/",
          "height": 497
        },
        "id": "XfaNsykrY6Fp",
        "outputId": "e1a0ff71-2ed3-4941-ce5b-469dbc07af96"
      },
      "source": [
        "plt.figure(figsize=(12,8))\n",
        "plt.scatter(Temps, exact_energy / 16, color='green')\n",
        "plt.errorbar(Temps1, mean_energis,errors,   marker = \"o\", linestyle=\"None\", label='my Ising_old')\n",
        "plt.errorbar(Temps1, mean_energis1,errors1,   marker = \"o\", linestyle=\"None\", label='my Ising_new')\n",
        "plt.errorbar(Temps1, mean_energis2,errors2,   marker = \"o\", color='red', linestyle=\"None\", label='mc_libs' )\n",
        "plt.legend()\n",
        "plt.xlabel(\"T\")\n",
        "plt.ylabel(r\"$\\dfrac{E}{L^2}$\")\n",
        "plt.grid()"
      ],
      "execution_count": null,
      "outputs": [
        {
          "output_type": "display_data",
          "data": {
            "image/png": "[encoded data removed]",
            "text/plain": [
              "<Figure size 864x576 with 1 Axes>"
            ]
          },
          "metadata": {
            "needs_background": "light"
          }
        }
      ]
    }
  ]
}